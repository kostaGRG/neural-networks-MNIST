{
  "cells": [
    {
      "cell_type": "markdown",
      "metadata": {
        "id": "B6AmINYZzNqA"
      },
      "source": [
        "# **Personal Details**\n",
        "**Full name**: Konstantinos Gerogiannis  \n",
        "**Studies**: Electrical and Computer Engineering, AUTh  \n",
        "**Email**: kostas.gerogiannis04@gmail.com\n"
      ]
    },
    {
      "cell_type": "markdown",
      "metadata": {
        "id": "rt4s1RzLz7sw"
      },
      "source": [
        "## **Summary**\n",
        "In this Colab, we attempt to create an autoencoder trained on the MNIST dataset, which was used in previous tasks. The autoencoder is designed to reconstruct the next digit in sequence as the output. The code is written in Python and utilizes the PyTorch library."
      ]
    },
    {
      "cell_type": "markdown",
      "metadata": {
        "id": "ODFQPq6a5Tvn"
      },
      "source": [
        "## **Importing libraries**\n",
        "\n",
        "First, we import useful libraries:\n",
        "* PyTorch libraries\n",
        "* Matplotlib library for plotting graphs\n",
        "* Time library for measuring code execution time\n",
        "* NumPy library for efficient mathematical operations and handling large data\n",
        "* Random library for random operations in the program"
      ]
    },
    {
      "cell_type": "code",
      "execution_count": null,
      "metadata": {
        "id": "-5IjYSqACwDp"
      },
      "outputs": [],
      "source": [
        "import torch\n",
        "from torchvision import datasets\n",
        "from torchvision import transforms\n",
        "import matplotlib.pyplot as plt\n",
        "import numpy as np\n",
        "from random import randint"
      ]
    },
    {
      "cell_type": "markdown",
      "metadata": {
        "id": "_Jhiv8F85hJ4"
      },
      "source": [
        "## **Loading data: MNIST dataset**"
      ]
    },
    {
      "cell_type": "markdown",
      "metadata": {
        "id": "p6xoIuVkfSPF"
      },
      "source": [
        "We load the dataset's data into variables `train_dataset` and `validation_dataset` in tensor format (the data is downloaded from the appropriate website). We display the number of samples in the training and validation sets on the screen and choose to process 32 images at a time (batch size variable)."
      ]
    },
    {
      "cell_type": "code",
      "execution_count": null,
      "metadata": {
        "colab": {
          "base_uri": "https://localhost:8080/",
          "height": 437,
          "referenced_widgets": [
            "0edd0ddd391f473db4469e22939dfd13",
            "ee6b2347c9af464489201b40125fdeba",
            "2ad68cc7dd8a4258ba50a2cf525801cf",
            "9d20fdaaa8ed4586b1b948032890750d",
            "4a4323020cba4a249d2c49e4740f34f7",
            "e5584341d42f4a41b42ac07a35cba002",
            "02ce8fc3614243abbccb5c5aa5af9a5e",
            "8ac18f76d2994dfca2d4eff4ada1b6e1",
            "134cd645759745ceb3c65db5550d061f",
            "b872869981484968baf122c3b5075441",
            "7bdd6ea79fe047889a17d41b67f8fed4",
            "5e832e7bf37f4776b455b318c92f80cb",
            "41edd95be5374658b326f29e7b0f45b8",
            "b838dc403d5a43629815958ab378dca4",
            "fddc888ef573420697ec7e892fe4e0c3",
            "7e6b9f65a7a4436f90671e308263a152",
            "183b3090dd3b477095c672762de175c3",
            "2f1bcd808faf4d2caf34768fe53c4c57",
            "d7600b0b91c645b9822dda1b01bd9205",
            "75979d8d68ac4ed683a13f477d30c124",
            "c5ef738caefc4f62b7b7e3e3e38cba95",
            "7ae3c9db2ae246fbb5cd3bcb08b164fb",
            "024f09afce8147cab7cd56749f769e51",
            "097d4bfcbe364bb1a180f1cd55b85b1e",
            "8b46349372bb4cdb86a777ff3875f375",
            "4976ece9547646aab2024c692a14ef05",
            "a3b9bfc0eec842d694a8be5df3f64245",
            "b3b92972864e43b4a3b9a2369dcbdbfc",
            "355fc827e9d2466193a971d82f7db0ca",
            "6605289b22b54e06bc11adb7338f565e",
            "8c51aacec4d140969af8b2df687a81c0",
            "4402c69e141547aa84c9cbc327e9a3e7",
            "4e1b8f4481db4568a3c4d994e0539d12",
            "cd1707d8be77429f8abf2873d01f7b11",
            "22ef9d7c66654a2e89ac5c1559010647",
            "ea0d46a9deff494696bce22cdd719d9a",
            "a88b902d94104949b2818cb19c8f6682",
            "5dc360a707504566b074a11a8c6193b7",
            "8eca9ca5cdf1469a9d974ef0eb616350",
            "e12f22fa2c504b3d879e650fa33ffe3c",
            "fad82b5f451a4f50b92b53033ec664cc",
            "efbafd979e49484bb3c60b7e5f96d049",
            "7bb8e7a6f432498db49f7facba7965da",
            "110a8caad06c4e21a149c43bbf3ac36b"
          ]
        },
        "id": "QXa2nV3MC91z",
        "outputId": "0c27bb9e-d0c7-48b7-b4b6-87efb7170971"
      },
      "outputs": [
        {
          "name": "stdout",
          "output_type": "stream",
          "text": [
            "Downloading http://yann.lecun.com/exdb/mnist/train-images-idx3-ubyte.gz\n",
            "Downloading http://yann.lecun.com/exdb/mnist/train-images-idx3-ubyte.gz to ./data/MNIST/raw/train-images-idx3-ubyte.gz\n"
          ]
        },
        {
          "data": {
            "application/vnd.jupyter.widget-view+json": {
              "model_id": "0edd0ddd391f473db4469e22939dfd13",
              "version_major": 2,
              "version_minor": 0
            },
            "text/plain": [
              "  0%|          | 0/9912422 [00:00<?, ?it/s]"
            ]
          },
          "metadata": {},
          "output_type": "display_data"
        },
        {
          "name": "stdout",
          "output_type": "stream",
          "text": [
            "Extracting ./data/MNIST/raw/train-images-idx3-ubyte.gz to ./data/MNIST/raw\n",
            "\n",
            "Downloading http://yann.lecun.com/exdb/mnist/train-labels-idx1-ubyte.gz\n",
            "Downloading http://yann.lecun.com/exdb/mnist/train-labels-idx1-ubyte.gz to ./data/MNIST/raw/train-labels-idx1-ubyte.gz\n"
          ]
        },
        {
          "data": {
            "application/vnd.jupyter.widget-view+json": {
              "model_id": "5e832e7bf37f4776b455b318c92f80cb",
              "version_major": 2,
              "version_minor": 0
            },
            "text/plain": [
              "  0%|          | 0/28881 [00:00<?, ?it/s]"
            ]
          },
          "metadata": {},
          "output_type": "display_data"
        },
        {
          "name": "stdout",
          "output_type": "stream",
          "text": [
            "Extracting ./data/MNIST/raw/train-labels-idx1-ubyte.gz to ./data/MNIST/raw\n",
            "\n",
            "Downloading http://yann.lecun.com/exdb/mnist/t10k-images-idx3-ubyte.gz\n",
            "Downloading http://yann.lecun.com/exdb/mnist/t10k-images-idx3-ubyte.gz to ./data/MNIST/raw/t10k-images-idx3-ubyte.gz\n"
          ]
        },
        {
          "data": {
            "application/vnd.jupyter.widget-view+json": {
              "model_id": "024f09afce8147cab7cd56749f769e51",
              "version_major": 2,
              "version_minor": 0
            },
            "text/plain": [
              "  0%|          | 0/1648877 [00:00<?, ?it/s]"
            ]
          },
          "metadata": {},
          "output_type": "display_data"
        },
        {
          "name": "stdout",
          "output_type": "stream",
          "text": [
            "Extracting ./data/MNIST/raw/t10k-images-idx3-ubyte.gz to ./data/MNIST/raw\n",
            "\n",
            "Downloading http://yann.lecun.com/exdb/mnist/t10k-labels-idx1-ubyte.gz\n",
            "Downloading http://yann.lecun.com/exdb/mnist/t10k-labels-idx1-ubyte.gz to ./data/MNIST/raw/t10k-labels-idx1-ubyte.gz\n"
          ]
        },
        {
          "data": {
            "application/vnd.jupyter.widget-view+json": {
              "model_id": "cd1707d8be77429f8abf2873d01f7b11",
              "version_major": 2,
              "version_minor": 0
            },
            "text/plain": [
              "  0%|          | 0/4542 [00:00<?, ?it/s]"
            ]
          },
          "metadata": {},
          "output_type": "display_data"
        },
        {
          "name": "stdout",
          "output_type": "stream",
          "text": [
            "Extracting ./data/MNIST/raw/t10k-labels-idx1-ubyte.gz to ./data/MNIST/raw\n",
            "\n"
          ]
        }
      ],
      "source": [
        "# Transforms images to a PyTorch Tensor\n",
        "tensor_transform = transforms.ToTensor()\n",
        " \n",
        "# Download the MNIST Dataset\n",
        "train_dataset = datasets.MNIST(root = \"./data\",\n",
        "                         train = True,\n",
        "                         download = True,\n",
        "                         transform = tensor_transform)\n",
        "\n",
        "test_dataset = datasets.MNIST(root = \"./data\",\n",
        "                         train = False,\n",
        "                         download = True,\n",
        "                         transform = tensor_transform)\n",
        " \n",
        "# DataLoader is used to load the dataset\n",
        "# for training\n",
        "train_loader = torch.utils.data.DataLoader(dataset = train_dataset,\n",
        "                                     batch_size = 32,\n",
        "                                     shuffle=True)\n",
        "test_loader = torch.utils.data.DataLoader(dataset = test_dataset,\n",
        "                                     batch_size = 32,\n",
        "                                     shuffle=True)"
      ]
    },
    {
      "cell_type": "markdown",
      "metadata": {
        "id": "lguOL1IDXSfI"
      },
      "source": [
        "## Creating Class for the Autoencoder\n",
        "First, we create a class that implements a simple autoencoder, which will reconstruct the input it receives. Initially, we create a sequential model that encodes the input image, and then immediately decodes it to generate a new image as output."
      ]
    },
    {
      "cell_type": "code",
      "execution_count": null,
      "metadata": {
        "id": "bcnDADEpDFWe"
      },
      "outputs": [],
      "source": [
        "class AutoEncoder(torch.nn.Module):\n",
        "    def __init__(self):\n",
        "        super().__init__()\n",
        "         \n",
        "        self.encoder = torch.nn.Sequential(\n",
        "            torch.nn.Linear(28 * 28, 256),\n",
        "            torch.nn.ReLU(),\n",
        "            torch.nn.Linear(256, 128),\n",
        "            torch.nn.ReLU(),\n",
        "            torch.nn.Linear(128, 64),\n",
        "            torch.nn.ReLU(),\n",
        "            torch.nn.Linear(64, 10)\n",
        "        )\n",
        "         \n",
        "        self.decoder = torch.nn.Sequential(\n",
        "            torch.nn.Linear(10, 64),\n",
        "            torch.nn.ReLU(),\n",
        "            torch.nn.Linear(64, 128),\n",
        "            torch.nn.ReLU(),\n",
        "            torch.nn.Linear(128, 256),\n",
        "            torch.nn.ReLU(),\n",
        "            torch.nn.Linear(256, 28 * 28),\n",
        "            torch.nn.Sigmoid()\n",
        "        )\n",
        " \n",
        "    def forward(self, x):\n",
        "        encoded = self.encoder(x)\n",
        "        decoded = self.decoder(encoded)\n",
        "        return decoded"
      ]
    },
    {
      "cell_type": "markdown",
      "metadata": {
        "id": "S02tARUoaAHF"
      },
      "source": [
        "## Model initialization\n",
        "We initialize the model, loss function, and optimizer. We choose the Adam optimizer after trying various options."
      ]
    },
    {
      "cell_type": "code",
      "execution_count": null,
      "metadata": {
        "id": "Ps-0b6h4DIMO"
      },
      "outputs": [],
      "source": [
        "\n",
        "# Model Initialization\n",
        "model = AutoEncoder()\n",
        " \n",
        "# Validation using MSE Loss function\n",
        "loss_function = torch.nn.MSELoss()\n",
        " \n",
        "# Using an Adam Optimizer with lr = 0.1\n",
        "optimizer = torch.optim.Adam(model.parameters(),\n",
        "                             lr = 1e-2)"
      ]
    },
    {
      "cell_type": "markdown",
      "metadata": {
        "id": "lD353NP6aTb-"
      },
      "source": [
        "In this model, separate functions have not been created for the training and test datasets. We only work with the training dataset, and the results it provides are satisfactory. More time has been devoted to the second part of the project, which also addresses the required task. We store the input and output images of the model for the last epoch in the variable \"outputs.\""
      ]
    },
    {
      "cell_type": "code",
      "execution_count": null,
      "metadata": {
        "colab": {
          "base_uri": "https://localhost:8080/"
        },
        "id": "vlIAIalaDKxR",
        "outputId": "3f73b5db-976a-4a0d-a59b-b14f97823761"
      },
      "outputs": [
        {
          "name": "stdout",
          "output_type": "stream",
          "text": [
            "0\n",
            "1\n",
            "2\n",
            "3\n",
            "Mean loss for each epoch: [0.03887750139037768, 0.031461527596910795, 0.028844930124282835, 0.027499209127823512]\n"
          ]
        }
      ],
      "source": [
        "epochs = 4\n",
        "outputs = []\n",
        "epoch_losses = []\n",
        "\n",
        "batch_size = len(train_loader)\n",
        "for epoch in range(epochs):\n",
        "    print(epoch)\n",
        "    epoch_loss = 0\n",
        "    losses = []\n",
        "    for image,_ in train_loader:\n",
        "      image = image.reshape(-1,28*28)\n",
        "      \n",
        "      reconstructed_image = model(image)\n",
        "      loss = loss_function(reconstructed_image,image)\n",
        "      optimizer.zero_grad()\n",
        "      loss.backward()\n",
        "      optimizer.step()\n",
        "      losses.append(loss.item())\n",
        "\n",
        "      if epoch == epochs -1:\n",
        "        outputs.append((image, reconstructed_image))\n",
        "\n",
        "    epoch_losses.append(sum(losses)/len(losses))\n",
        "print('Mean loss for each epoch:',epoch_losses)     "
      ]
    },
    {
      "cell_type": "markdown",
      "metadata": {
        "id": "kHF8HXYsbWlP"
      },
      "source": [
        "## Plotting some examples\n",
        "We randomly choose to print a number of images and the corresponding output generated by the model on the screen."
      ]
    },
    {
      "cell_type": "code",
      "execution_count": null,
      "metadata": {
        "colab": {
          "base_uri": "https://localhost:8080/",
          "height": 495
        },
        "id": "l12JS3-pDWUo",
        "outputId": "737237ab-9286-4607-a601-f73b16b45fa2"
      },
      "outputs": [
        {
          "data": {
            "image/png": "[encoded data removed]",
            "text/plain": [
              "<Figure size 720x720 with 6 Axes>"
            ]
          },
          "metadata": {},
          "output_type": "display_data"
        }
      ],
      "source": [
        "number_of_samples = 3\n",
        "\n",
        "fig = plt.figure(figsize=(10,10))\n",
        "for i in range(number_of_samples):\n",
        "  random_image = randint(0,len(outputs)-1)\n",
        "\n",
        "  # Reshape the array for plotting\n",
        "  image = outputs[random_image][0].reshape(-1, 28, 28)\n",
        "  reconstructed = outputs[random_image][1].detach().reshape(-1, 28, 28)\n",
        "\n",
        "  ax1 = fig.add_subplot('2'+str(number_of_samples)+str(i+1))\n",
        "  ax1.get_xaxis().set_ticks([])\n",
        "  ax1.get_yaxis().set_ticks([])\n",
        "  plt.imshow(image[0],cmap='gray')\n",
        "\n",
        "  ax2 = fig.add_subplot('2'+str(number_of_samples)+str(i+4))\n",
        "  ax2.get_xaxis().set_ticks([])\n",
        "  ax2.get_yaxis().set_ticks([])\n",
        "  plt.imshow(reconstructed[0],cmap='gray')"
      ]
    },
    {
      "cell_type": "markdown",
      "metadata": {
        "id": "bXq4uXbubnki"
      },
      "source": [
        "## Conclusions about the simple autoencoder\n",
        "We can draw the following conclusions about the simple autoencoder we created:\n",
        "\n",
        "- Even with a small number of epochs (default: 4), its results are distinct and highly accurate.\n",
        "- The few times the algorithm fails, it happens due to the peculiar handwriting of the input digit."
      ]
    },
    {
      "cell_type": "markdown",
      "metadata": {
        "id": "JR4DaG9acYL5"
      },
      "source": [
        "## Creating Class for the improved Autoencoder\n",
        "We create this class to attempt the main goal of the task:\n",
        "\n",
        "- To return the next digit from the autoencoder in relation to the one given as input.\n",
        "\n",
        "This class is more complex because it has additional variables, and the `forward` function processes the results that come out after the image passes through the encoder. After processing, it is passed to the decoder, which generates the final output.\n",
        "\n",
        "**Forward function:**\n",
        "\n",
        "- When training the model, the function does not differ from the default function; it simply forwards the output of the encoder to the input of the decoder.\n",
        "- In the last epoch of the learning process, the function stores the outputs of the encoder for each digit in the appropriate position in the `digit_strengths` dictionary. This dictionary consists of 10 keys, one for each digit, and each key points to a list of lists, where each list is a digit that has already been recorded in it.\n",
        "- When testing the model (checking with the `validation` variable) and we are on the first input to the model, we calculate the averages of the `digit_strengths` dictionary for each digit. For example, for the digit 2, we have a list of 10 positions that shows the mean value we expect for the 10 output neurons of the encoder.\n",
        "- In any other iteration on the test set, the above step is not performed. Then, we calculate for each input image, after it comes out of the encoder, which of the 10 digits it resembles the most by finding the Mean Squared Error (MSE) and selecting the smallest one.\n",
        "\n",
        "In this way, we achieve a prediction with an accuracy of around 40%. I do not consider this accuracy satisfactory, but it is an improvement compared to the 10% random choice among 10 digits."
      ]
    },
    {
      "cell_type": "code",
      "execution_count": null,
      "metadata": {
        "id": "scnbkju1edE3"
      },
      "outputs": [],
      "source": [
        "class AutoEncoderImproved(torch.nn.Module):\n",
        "    def __init__(self):\n",
        "        super().__init__()\n",
        "        self.validation = False\n",
        "        self.digit_strengths =  {i: [] for i in range(10)}\n",
        "        self.means =  {i: [] for i in range(10)}\n",
        "        self.true_label = -1\n",
        "        self.last_epoch = False\n",
        "        self.predicted_labels=[]\n",
        "\n",
        "        self.encoder = torch.nn.Sequential(\n",
        "            torch.nn.Linear(28 * 28, 256),\n",
        "            torch.nn.ReLU(),\n",
        "            torch.nn.Linear(256, 128),\n",
        "            torch.nn.ReLU(),\n",
        "            torch.nn.Linear(128, 64),\n",
        "            torch.nn.ReLU(),\n",
        "            torch.nn.Linear(64, 10)\n",
        "        )\n",
        "         \n",
        "        self.decoder = torch.nn.Sequential(\n",
        "            torch.nn.Linear(10, 64),\n",
        "            torch.nn.ReLU(),\n",
        "            torch.nn.Linear(64, 128),\n",
        "            torch.nn.ReLU(),\n",
        "            torch.nn.Linear(128, 256),\n",
        "            torch.nn.ReLU(),\n",
        "            torch.nn.Linear(256, 28 * 28),\n",
        "            torch.nn.Sigmoid()\n",
        "        )\n",
        "\n",
        "\n",
        "    def forward(self, x):\n",
        "        encoded = self.encoder(x)\n",
        "        encoded = encoded.tolist()\n",
        "        if self.validation:\n",
        "          if self.first_iter:\n",
        "            for i in range(10):\n",
        "              self.means[i]=np.mean(self.digit_strengths[i],axis = 0)\n",
        "          self.predicted_labels=[]\n",
        "          for i in range(len(encoded)):\n",
        "            differences = []\n",
        "            for j in range(10):\n",
        "              differences.append(np.sum(np.power(np.subtract(encoded[i],self.means[j]),2)))\n",
        "            next_label = np.argmin(differences)\n",
        "            self.predicted_labels.append(next_label)\n",
        "            next_label = (next_label+1)%10\n",
        "            encoded[i][:] = self.digit_strengths[next_label][randint(0,len(self.digit_strengths[next_label])-1)]\n",
        "        elif self.last_epoch:\n",
        "          for i in range(len(encoded)):\n",
        "            self.digit_strengths[self.true_label[i].item()].append(encoded[i])\n",
        "\n",
        "        encoded = torch.Tensor(encoded)\n",
        "        decoded = self.decoder(encoded)\n",
        "        if self.validation:\n",
        "          return self.predicted_labels,decoded\n",
        "        return decoded"
      ]
    },
    {
      "cell_type": "markdown",
      "metadata": {
        "id": "sCkbs0f2dUEK"
      },
      "source": [
        "## Model initialization\n",
        "We initialize the model, the loss function, and the optimizer. We choose the NAdam optimizer, which appears to be more effective here as it manages to achieve smaller losses compared to the standard Adam optimizer. The choice of optimizer involved many experiments with various functions and learning rate values."
      ]
    },
    {
      "cell_type": "code",
      "execution_count": null,
      "metadata": {
        "id": "WIgoJyZJgz5M"
      },
      "outputs": [],
      "source": [
        "# Model Initialization\n",
        "model = AutoEncoderImproved()\n",
        "\n",
        "loss_function = torch.nn.MSELoss()\n",
        "\n",
        "optimizer = torch.optim.NAdam(model.parameters(),lr = 0.005)"
      ]
    },
    {
      "cell_type": "markdown",
      "metadata": {
        "id": "B_g3zHTMd_yp"
      },
      "source": [
        "In this model, we handle the train and test datasets differently. Initially, the train function is called, which trains the model and calculates the losses per epoch. Then, the validate function is called, where we test the trained model, ensuring that we do not further train it because the output it provides is no longer related to the input we provide, and it would confuse the optimizer (as it deals with different digits)."
      ]
    },
    {
      "cell_type": "code",
      "execution_count": null,
      "metadata": {
        "colab": {
          "base_uri": "https://localhost:8080/"
        },
        "id": "cOsfpuiCg678",
        "outputId": "2b9476a5-f792-4b59-e342-9572bd27d9b7"
      },
      "outputs": [
        {
          "name": "stdout",
          "output_type": "stream",
          "text": [
            "0\n",
            "1\n",
            "2\n",
            "3\n",
            "Mean loss per epoch in training set: [0.06247430200775465, 0.05345585763454437, 0.049341263512770336, 0.04708816176851591]\n",
            "Starting validation\n",
            "Validation finished\n",
            "accuracy score: 0.40964456869009586\n"
          ]
        }
      ],
      "source": [
        "from sklearn.metrics import accuracy_score\n",
        "epochs = 4\n",
        "outputs = []\n",
        "losses = []\n",
        "epoch_losses = []\n",
        "\n",
        "def train(model):\n",
        "  model.validation = False\n",
        "\n",
        "  for epoch in range(epochs):\n",
        "      if epoch == epochs -1:\n",
        "        model.last_epoch = True\n",
        "      print(epoch)\n",
        "      losses = []\n",
        "      count = 0\n",
        "      for image,labels in train_loader:\n",
        "        image = image.reshape(-1,28*28)\n",
        "        model.true_label = labels\n",
        "        reconstructed_image = model(image)\n",
        "        loss = loss_function(reconstructed_image,image)\n",
        "        optimizer.zero_grad()\n",
        "        loss.backward()\n",
        "        optimizer.step()\n",
        "        losses.append(loss.item())\n",
        "\n",
        "      epoch_losses.append(sum(losses)/len(losses))\n",
        "  print('Mean loss per epoch in training set:',epoch_losses)\n",
        "\n",
        "def validate(model):\n",
        "  scores = []\n",
        "  print('Starting validation')\n",
        "  model.validation = True\n",
        "  counter = 0\n",
        "  for image,labels in test_loader:\n",
        "      image = image.reshape(-1,28*28)\n",
        "      model.true_label = labels\n",
        "      counter = counter + 1\n",
        "      with torch.no_grad():\n",
        "        if counter == 1:\n",
        "          model.first_iter = True\n",
        "        else:\n",
        "          model.first_iter = False\n",
        "        predicted_labels,reconstructed_image = model(image) \n",
        "        outputs.append((image, reconstructed_image))\n",
        "        scores.append(accuracy_score(predicted_labels,labels))\n",
        "  print('Validation finished')\n",
        "  print('accuracy score:',np.mean(scores))\n",
        "\n",
        "train(model)\n",
        "validate(model)\n"
      ]
    },
    {
      "cell_type": "code",
      "execution_count": null,
      "metadata": {
        "colab": {
          "base_uri": "https://localhost:8080/",
          "height": 531
        },
        "id": "WQQ-z7hbiP9t",
        "outputId": "3f3d95ab-8e7a-48e3-e452-45b796d3580a"
      },
      "outputs": [
        {
          "name": "stdout",
          "output_type": "stream",
          "text": [
            "313\n",
            "32\n"
          ]
        },
        {
          "data": {
            "image/png": "[encoded data removed]",
            "text/plain": [
              "<Figure size 720x720 with 6 Axes>"
            ]
          },
          "metadata": {},
          "output_type": "display_data"
        }
      ],
      "source": [
        "number_of_samples = 3\n",
        "print(len(outputs))\n",
        "print(len(outputs[0][0]))\n",
        "fig = plt.figure(figsize=(10,10))\n",
        "for i in range(number_of_samples):\n",
        "  random_image = randint(0,len(outputs)-1)\n",
        "  random_sample = randint(0,len(outputs[random_image][0])-1)\n",
        "  # Reshape the array for plotting\n",
        "  image = outputs[random_image][0].reshape(-1, 28, 28)\n",
        "  reconstructed = outputs[random_image][1].reshape(-1, 28, 28)\n",
        "\n",
        "  ax1 = fig.add_subplot('2'+str(number_of_samples)+str(i+1))\n",
        "  ax1.get_xaxis().set_ticks([])\n",
        "  ax1.get_yaxis().set_ticks([])\n",
        "  plt.imshow(image[random_sample],cmap='gray')\n",
        "\n",
        "  ax2 = fig.add_subplot('2'+str(number_of_samples)+str(i+4))\n",
        "  ax2.get_xaxis().set_ticks([])\n",
        "  ax2.get_yaxis().set_ticks([])\n",
        "  plt.imshow(reconstructed[random_sample],cmap='gray')"
      ]
    },
    {
      "cell_type": "markdown",
      "metadata": {
        "id": "-QalLZnFfpYq"
      },
      "source": [
        "## Conclusions about the improved autoencoder\n",
        "An attempt was made for the autoencoder to achieve its goal, but the results are not entirely satisfactory.\n",
        "* There are some cases where the result is clearly correct.\n",
        "* Sometimes, with a bit of imagination, the correct result does indeed emerge at the output.\n",
        "* In the remaining cases, the output is not as desired.\n",
        "\n",
        "Various approaches to the problem and many experiments were conducted, but unfortunately, none reached a satisfactory level to solve the problem. However, since many hours and effort were dedicated to this, I wanted to submit the work along with the simplified model that I retained, as the more complex approaches to the problem did not yield results."
      ]
    },
    {
      "cell_type": "markdown",
      "metadata": {
        "id": "6iUwqWySEL5m"
      },
      "source": [
        "## **Reducing training time with PCA**\n",
        "\n",
        "In this specific Colab notebook, there are already accuracy issues, and the focus is not primarily on the computation time. The PCA method will be used, and we will compare the times and further assess the impact on the model's accuracy."
      ]
    },
    {
      "cell_type": "code",
      "execution_count": null,
      "metadata": {
        "id": "0B1Pd9m_qwG6"
      },
      "outputs": [],
      "source": [
        "# Transforms images to a PyTorch Tensor\n",
        "tensor_transform = transforms.ToTensor()\n",
        " \n",
        "# Download the MNIST Dataset\n",
        "train_dataset = datasets.MNIST(root = \"./data\",\n",
        "                         train = True,\n",
        "                         download = True,\n",
        "                         transform = tensor_transform)\n",
        "\n",
        "test_dataset = datasets.MNIST(root = \"./data\",\n",
        "                         train = False,\n",
        "                         download = True,\n",
        "                         transform = tensor_transform)\n",
        " "
      ]
    },
    {
      "cell_type": "markdown",
      "metadata": {
        "id": "Ps1GxvilChjd"
      },
      "source": [
        "- We create the function `transform_data` where we input the data we want to transform and the dimension we want to reduce it to using PCA. The function will return the transformed data after applying the transformation.\n",
        "- Additionally, we create the class `TransformedDataset` to enable us to save the new data because this cannot be done with the basic `Dataset` class in PyTorch."
      ]
    },
    {
      "cell_type": "code",
      "execution_count": null,
      "metadata": {
        "colab": {
          "base_uri": "https://localhost:8080/"
        },
        "id": "zBFe4jAXoqZX",
        "outputId": "4869e1fd-e8be-4cff-895d-3000a4cba4e9"
      },
      "outputs": [
        {
          "name": "stdout",
          "output_type": "stream",
          "text": [
            "train data dimensions before PCA: torch.Size([60000, 28, 28])\n",
            "train data dimensions after PCA: torch.Size([60000, 256])\n",
            "test data dimensions before PCA: torch.Size([10000, 28, 28])\n",
            "test data dimensions after PCA: torch.Size([10000, 256])\n"
          ]
        }
      ],
      "source": [
        "from sklearn.decomposition import PCA\n",
        "from torch.utils.data import Dataset\n",
        "\n",
        "def transform_data(data,n_components=256):\n",
        "  # Flatten\n",
        "  data = data.view(data.size(0), -1)\n",
        "  data = data.float()\n",
        "\n",
        "  mean = data.mean()\n",
        "  std = data.std()\n",
        "  data = (data - mean) / std\n",
        "\n",
        "  pca = PCA(n_components=n_components)\n",
        "  data = pca.fit_transform(data)\n",
        "  data = (torch.tensor(data)).type(torch.FloatTensor)\n",
        "  return data\n",
        "\n",
        "\n",
        "train_data = train_dataset.data\n",
        "print('train data dimensions before PCA:',train_data.shape)\n",
        "train_data = transform_data(train_data)\n",
        "print('train data dimensions after PCA:',train_data.shape)\n",
        "test_data = test_dataset.data\n",
        "print('test data dimensions before PCA:',test_data.shape)\n",
        "test_data = transform_data(test_data)\n",
        "print('test data dimensions after PCA:',test_data.shape)\n",
        "\n",
        "class TransformedDataset(Dataset):\n",
        "    def __init__(self, data, labels):\n",
        "        self.data = data\n",
        "        self.labels = labels\n",
        "        \n",
        "    def __len__(self):\n",
        "        return len(self.data)\n",
        "    \n",
        "    def __getitem__(self, index):\n",
        "        return self.data[index], self.labels[index]\n",
        "\n",
        "train_labels = train_dataset.targets\n",
        "test_labels = test_dataset.targets\n",
        "\n",
        "train_dataset = TransformedDataset(data=train_data, labels=train_labels)\n",
        "test_dataset = TransformedDataset(data=test_data, labels=test_labels)\n",
        "\n",
        "train_loader = torch.utils.data.DataLoader(dataset = train_dataset,\n",
        "                                     batch_size = 32,\n",
        "                                     shuffle=True)\n",
        "\n",
        "test_loader = torch.utils.data.DataLoader(dataset = test_dataset,\n",
        "                                     batch_size = 32,\n",
        "                                     shuffle=False)\n"
      ]
    },
    {
      "cell_type": "markdown",
      "metadata": {
        "id": "FDVBq5xlEJKH"
      },
      "source": [
        "The model we create here for PCA functions similarly to the improved autoencoder defined previously, with the only difference being in the number of neurons and layers used in the encoder and decoder."
      ]
    },
    {
      "cell_type": "code",
      "execution_count": null,
      "metadata": {
        "id": "-R2XthBosx_p"
      },
      "outputs": [],
      "source": [
        "class AutoEncoderImprovedPCA(torch.nn.Module):\n",
        "    def __init__(self):\n",
        "        super().__init__()\n",
        "        self.validation = False\n",
        "        self.digit_strengths =  {i: [] for i in range(10)}\n",
        "        self.means =  {i: [] for i in range(10)}\n",
        "        self.true_label = -1\n",
        "        self.last_epoch = False\n",
        "        self.predicted_labels=[]\n",
        "\n",
        "        self.encoder = torch.nn.Sequential(\n",
        "            torch.nn.Linear(256, 64),\n",
        "            torch.nn.ReLU(),\n",
        "            torch.nn.Linear(64, 32),\n",
        "            torch.nn.ReLU(),\n",
        "            torch.nn.Linear(32, 10)\n",
        "        )\n",
        "         \n",
        "        self.decoder = torch.nn.Sequential(\n",
        "            torch.nn.Linear(10, 32),\n",
        "            torch.nn.ReLU(),\n",
        "            torch.nn.Linear(32, 64),\n",
        "            torch.nn.ReLU(),\n",
        "            torch.nn.Linear(64, 256),\n",
        "            torch.nn.Sigmoid()\n",
        "        )\n",
        "\n",
        "\n",
        "    def forward(self, x):\n",
        "        encoded = self.encoder(x)\n",
        "        encoded = encoded.tolist()\n",
        "        if self.validation:\n",
        "          if self.first_iter:\n",
        "            for i in range(10):\n",
        "              self.means[i]=np.mean(self.digit_strengths[i],axis = 0)\n",
        "          self.predicted_labels=[]\n",
        "          for i in range(len(encoded)):\n",
        "            differences = []\n",
        "            for j in range(10):\n",
        "              differences.append(np.sum(np.power(np.subtract(encoded[i],self.means[j]),2)))\n",
        "            next_label = np.argmin(differences)\n",
        "            self.predicted_labels.append(next_label)\n",
        "            next_label = (next_label+1)%10\n",
        "            encoded[i][:] = self.digit_strengths[next_label][randint(0,len(self.digit_strengths[next_label])-1)]\n",
        "        elif self.last_epoch:\n",
        "          for i in range(len(encoded)):\n",
        "            self.digit_strengths[self.true_label[i].item()].append(encoded[i])\n",
        "\n",
        "        encoded = torch.Tensor(encoded)\n",
        "        decoded = self.decoder(encoded)\n",
        "        if self.validation:\n",
        "          return self.predicted_labels,decoded\n",
        "        return decoded"
      ]
    },
    {
      "cell_type": "markdown",
      "metadata": {
        "id": "hM8DAceeEilQ"
      },
      "source": [
        "## Model initialization\n",
        "We initialize the model, the loss function and the optimizer. We choose as the suitable optimizer the simple Adam."
      ]
    },
    {
      "cell_type": "code",
      "execution_count": null,
      "metadata": {
        "id": "oiUQakeQuHPZ"
      },
      "outputs": [],
      "source": [
        "# Model Initialization\n",
        "model = AutoEncoderImprovedPCA()\n",
        "\n",
        "loss_function = torch.nn.MSELoss()\n",
        "\n",
        "optimizer = torch.optim.Adam(model.parameters(),lr = 0.005)"
      ]
    },
    {
      "cell_type": "markdown",
      "metadata": {
        "id": "OQizC8yEEtnm"
      },
      "source": [
        "With the same functionality as before, the model is trained and tested. The speeds after applying PCA are significantly faster, and we can run the model with more epochs in the same time frame. However, the accuracy has deteriorated, dropping to 15%, very close to random selection, which is a very disappointing result."
      ]
    },
    {
      "cell_type": "code",
      "execution_count": null,
      "metadata": {
        "colab": {
          "base_uri": "https://localhost:8080/"
        },
        "id": "qXOzpI-cuQ-h",
        "outputId": "4bb06ffa-4ad9-4c3a-e62e-98c2ee829693"
      },
      "outputs": [
        {
          "name": "stdout",
          "output_type": "stream",
          "text": [
            "0\n",
            "1\n",
            "2\n",
            "3\n",
            "4\n",
            "5\n",
            "6\n",
            "7\n",
            "8\n",
            "9\n",
            "Mean loss per epoch in training set: [2.073868380101522, 2.0402763151168823, 2.0270871262232464, 2.019866829999288, 2.009192009226481, 2.003223336919149, 2.0009183037439984, 1.9992174067815145, 1.9979145523707071, 1.9969201606114706]\n",
            "Starting validation\n",
            "Validation finished\n",
            "accuracy score: 0.14586661341853036\n"
          ]
        }
      ],
      "source": [
        "from sklearn.metrics import accuracy_score\n",
        "epochs = 10\n",
        "outputs = []\n",
        "losses = []\n",
        "epoch_losses = []\n",
        "\n",
        "def train(model):\n",
        "  model.validation = False\n",
        "\n",
        "  for epoch in range(epochs):\n",
        "      if epoch == epochs -1:\n",
        "        model.last_epoch = True\n",
        "      print(epoch)\n",
        "      losses = []\n",
        "      count = 0\n",
        "      for image,labels in train_loader:\n",
        "        model.true_label = labels\n",
        "        reconstructed_image = model(image)\n",
        "        loss = loss_function(reconstructed_image,image)\n",
        "        optimizer.zero_grad()\n",
        "        loss.backward()\n",
        "        optimizer.step()\n",
        "        losses.append(loss.item())\n",
        "\n",
        "      epoch_losses.append(sum(losses)/len(losses))\n",
        "  print('Mean loss per epoch in training set:',epoch_losses)\n",
        "\n",
        "def validate(model):\n",
        "  scores = []\n",
        "  print('Starting validation')\n",
        "  model.validation = True\n",
        "  counter = 0\n",
        "  for image,labels in test_loader:\n",
        "      model.true_label = labels\n",
        "      counter = counter + 1\n",
        "      with torch.no_grad():\n",
        "        if counter == 1:\n",
        "          model.first_iter = True\n",
        "        else:\n",
        "          model.first_iter = False\n",
        "        predicted_labels,reconstructed_image = model(image) \n",
        "        outputs.append((image, reconstructed_image))\n",
        "        scores.append(accuracy_score(predicted_labels,labels))\n",
        "  print('Validation finished')\n",
        "  print('accuracy score:',np.mean(scores))\n",
        "\n",
        "train(model)\n",
        "validate(model)\n"
      ]
    }
  ],
  "metadata": {
    "colab": {
      "provenance": []
    },
    "kernelspec": {
      "display_name": "Python 3",
      "name": "python3"
    },
    "language_info": {
      "name": "python"
    },
    "widgets": {
      "application/vnd.jupyter.widget-state+json": {
        "024f09afce8147cab7cd56749f769e51": {
          "model_module": "@jupyter-widgets/controls",
          "model_module_version": "1.5.0",
          "model_name": "HBoxModel",
          "state": {
            "_dom_classes": [],
            "_model_module": "@jupyter-widgets/controls",
            "_model_module_version": "1.5.0",
            "_model_name": "HBoxModel",
            "_view_count": null,
            "_view_module": "@jupyter-widgets/controls",
            "_view_module_version": "1.5.0",
            "_view_name": "HBoxView",
            "box_style": "",
            "children": [
              "IPY_MODEL_097d4bfcbe364bb1a180f1cd55b85b1e",
              "IPY_MODEL_8b46349372bb4cdb86a777ff3875f375",
              "IPY_MODEL_4976ece9547646aab2024c692a14ef05"
            ],
            "layout": "IPY_MODEL_a3b9bfc0eec842d694a8be5df3f64245"
          }
        },
        "02ce8fc3614243abbccb5c5aa5af9a5e": {
          "model_module": "@jupyter-widgets/controls",
          "model_module_version": "1.5.0",
          "model_name": "DescriptionStyleModel",
          "state": {
            "_model_module": "@jupyter-widgets/controls",
            "_model_module_version": "1.5.0",
            "_model_name": "DescriptionStyleModel",
            "_view_count": null,
            "_view_module": "@jupyter-widgets/base",
            "_view_module_version": "1.2.0",
            "_view_name": "StyleView",
            "description_width": ""
          }
        },
        "097d4bfcbe364bb1a180f1cd55b85b1e": {
          "model_module": "@jupyter-widgets/controls",
          "model_module_version": "1.5.0",
          "model_name": "HTMLModel",
          "state": {
            "_dom_classes": [],
            "_model_module": "@jupyter-widgets/controls",
            "_model_module_version": "1.5.0",
            "_model_name": "HTMLModel",
            "_view_count": null,
            "_view_module": "@jupyter-widgets/controls",
            "_view_module_version": "1.5.0",
            "_view_name": "HTMLView",
            "description": "",
            "description_tooltip": null,
            "layout": "IPY_MODEL_b3b92972864e43b4a3b9a2369dcbdbfc",
            "placeholder": "​",
            "style": "IPY_MODEL_355fc827e9d2466193a971d82f7db0ca",
            "value": "100%"
          }
        },
        "0edd0ddd391f473db4469e22939dfd13": {
          "model_module": "@jupyter-widgets/controls",
          "model_module_version": "1.5.0",
          "model_name": "HBoxModel",
          "state": {
            "_dom_classes": [],
            "_model_module": "@jupyter-widgets/controls",
            "_model_module_version": "1.5.0",
            "_model_name": "HBoxModel",
            "_view_count": null,
            "_view_module": "@jupyter-widgets/controls",
            "_view_module_version": "1.5.0",
            "_view_name": "HBoxView",
            "box_style": "",
            "children": [
              "IPY_MODEL_ee6b2347c9af464489201b40125fdeba",
              "IPY_MODEL_2ad68cc7dd8a4258ba50a2cf525801cf",
              "IPY_MODEL_9d20fdaaa8ed4586b1b948032890750d"
            ],
            "layout": "IPY_MODEL_4a4323020cba4a249d2c49e4740f34f7"
          }
        },
        "110a8caad06c4e21a149c43bbf3ac36b": {
          "model_module": "@jupyter-widgets/controls",
          "model_module_version": "1.5.0",
          "model_name": "DescriptionStyleModel",
          "state": {
            "_model_module": "@jupyter-widgets/controls",
            "_model_module_version": "1.5.0",
            "_model_name": "DescriptionStyleModel",
            "_view_count": null,
            "_view_module": "@jupyter-widgets/base",
            "_view_module_version": "1.2.0",
            "_view_name": "StyleView",
            "description_width": ""
          }
        },
        "134cd645759745ceb3c65db5550d061f": {
          "model_module": "@jupyter-widgets/controls",
          "model_module_version": "1.5.0",
          "model_name": "ProgressStyleModel",
          "state": {
            "_model_module": "@jupyter-widgets/controls",
            "_model_module_version": "1.5.0",
            "_model_name": "ProgressStyleModel",
            "_view_count": null,
            "_view_module": "@jupyter-widgets/base",
            "_view_module_version": "1.2.0",
            "_view_name": "StyleView",
            "bar_color": null,
            "description_width": ""
          }
        },
        "183b3090dd3b477095c672762de175c3": {
          "model_module": "@jupyter-widgets/base",
          "model_module_version": "1.2.0",
          "model_name": "LayoutModel",
          "state": {
            "_model_module": "@jupyter-widgets/base",
            "_model_module_version": "1.2.0",
            "_model_name": "LayoutModel",
            "_view_count": null,
            "_view_module": "@jupyter-widgets/base",
            "_view_module_version": "1.2.0",
            "_view_name": "LayoutView",
            "align_content": null,
            "align_items": null,
            "align_self": null,
            "border": null,
            "bottom": null,
            "display": null,
            "flex": null,
            "flex_flow": null,
            "grid_area": null,
            "grid_auto_columns": null,
            "grid_auto_flow": null,
            "grid_auto_rows": null,
            "grid_column": null,
            "grid_gap": null,
            "grid_row": null,
            "grid_template_areas": null,
            "grid_template_columns": null,
            "grid_template_rows": null,
            "height": null,
            "justify_content": null,
            "justify_items": null,
            "left": null,
            "margin": null,
            "max_height": null,
            "max_width": null,
            "min_height": null,
            "min_width": null,
            "object_fit": null,
            "object_position": null,
            "order": null,
            "overflow": null,
            "overflow_x": null,
            "overflow_y": null,
            "padding": null,
            "right": null,
            "top": null,
            "visibility": null,
            "width": null
          }
        },
        "22ef9d7c66654a2e89ac5c1559010647": {
          "model_module": "@jupyter-widgets/controls",
          "model_module_version": "1.5.0",
          "model_name": "HTMLModel",
          "state": {
            "_dom_classes": [],
            "_model_module": "@jupyter-widgets/controls",
            "_model_module_version": "1.5.0",
            "_model_name": "HTMLModel",
            "_view_count": null,
            "_view_module": "@jupyter-widgets/controls",
            "_view_module_version": "1.5.0",
            "_view_name": "HTMLView",
            "description": "",
            "description_tooltip": null,
            "layout": "IPY_MODEL_8eca9ca5cdf1469a9d974ef0eb616350",
            "placeholder": "​",
            "style": "IPY_MODEL_e12f22fa2c504b3d879e650fa33ffe3c",
            "value": "100%"
          }
        },
        "2ad68cc7dd8a4258ba50a2cf525801cf": {
          "model_module": "@jupyter-widgets/controls",
          "model_module_version": "1.5.0",
          "model_name": "FloatProgressModel",
          "state": {
            "_dom_classes": [],
            "_model_module": "@jupyter-widgets/controls",
            "_model_module_version": "1.5.0",
            "_model_name": "FloatProgressModel",
            "_view_count": null,
            "_view_module": "@jupyter-widgets/controls",
            "_view_module_version": "1.5.0",
            "_view_name": "ProgressView",
            "bar_style": "success",
            "description": "",
            "description_tooltip": null,
            "layout": "IPY_MODEL_8ac18f76d2994dfca2d4eff4ada1b6e1",
            "max": 9912422,
            "min": 0,
            "orientation": "horizontal",
            "style": "IPY_MODEL_134cd645759745ceb3c65db5550d061f",
            "value": 9912422
          }
        },
        "2f1bcd808faf4d2caf34768fe53c4c57": {
          "model_module": "@jupyter-widgets/controls",
          "model_module_version": "1.5.0",
          "model_name": "DescriptionStyleModel",
          "state": {
            "_model_module": "@jupyter-widgets/controls",
            "_model_module_version": "1.5.0",
            "_model_name": "DescriptionStyleModel",
            "_view_count": null,
            "_view_module": "@jupyter-widgets/base",
            "_view_module_version": "1.2.0",
            "_view_name": "StyleView",
            "description_width": ""
          }
        },
        "355fc827e9d2466193a971d82f7db0ca": {
          "model_module": "@jupyter-widgets/controls",
          "model_module_version": "1.5.0",
          "model_name": "DescriptionStyleModel",
          "state": {
            "_model_module": "@jupyter-widgets/controls",
            "_model_module_version": "1.5.0",
            "_model_name": "DescriptionStyleModel",
            "_view_count": null,
            "_view_module": "@jupyter-widgets/base",
            "_view_module_version": "1.2.0",
            "_view_name": "StyleView",
            "description_width": ""
          }
        },
        "41edd95be5374658b326f29e7b0f45b8": {
          "model_module": "@jupyter-widgets/controls",
          "model_module_version": "1.5.0",
          "model_name": "HTMLModel",
          "state": {
            "_dom_classes": [],
            "_model_module": "@jupyter-widgets/controls",
            "_model_module_version": "1.5.0",
            "_model_name": "HTMLModel",
            "_view_count": null,
            "_view_module": "@jupyter-widgets/controls",
            "_view_module_version": "1.5.0",
            "_view_name": "HTMLView",
            "description": "",
            "description_tooltip": null,
            "layout": "IPY_MODEL_183b3090dd3b477095c672762de175c3",
            "placeholder": "​",
            "style": "IPY_MODEL_2f1bcd808faf4d2caf34768fe53c4c57",
            "value": "100%"
          }
        },
        "4402c69e141547aa84c9cbc327e9a3e7": {
          "model_module": "@jupyter-widgets/base",
          "model_module_version": "1.2.0",
          "model_name": "LayoutModel",
          "state": {
            "_model_module": "@jupyter-widgets/base",
            "_model_module_version": "1.2.0",
            "_model_name": "LayoutModel",
            "_view_count": null,
            "_view_module": "@jupyter-widgets/base",
            "_view_module_version": "1.2.0",
            "_view_name": "LayoutView",
            "align_content": null,
            "align_items": null,
            "align_self": null,
            "border": null,
            "bottom": null,
            "display": null,
            "flex": null,
            "flex_flow": null,
            "grid_area": null,
            "grid_auto_columns": null,
            "grid_auto_flow": null,
            "grid_auto_rows": null,
            "grid_column": null,
            "grid_gap": null,
            "grid_row": null,
            "grid_template_areas": null,
            "grid_template_columns": null,
            "grid_template_rows": null,
            "height": null,
            "justify_content": null,
            "justify_items": null,
            "left": null,
            "margin": null,
            "max_height": null,
            "max_width": null,
            "min_height": null,
            "min_width": null,
            "object_fit": null,
            "object_position": null,
            "order": null,
            "overflow": null,
            "overflow_x": null,
            "overflow_y": null,
            "padding": null,
            "right": null,
            "top": null,
            "visibility": null,
            "width": null
          }
        },
        "4976ece9547646aab2024c692a14ef05": {
          "model_module": "@jupyter-widgets/controls",
          "model_module_version": "1.5.0",
          "model_name": "HTMLModel",
          "state": {
            "_dom_classes": [],
            "_model_module": "@jupyter-widgets/controls",
            "_model_module_version": "1.5.0",
            "_model_name": "HTMLModel",
            "_view_count": null,
            "_view_module": "@jupyter-widgets/controls",
            "_view_module_version": "1.5.0",
            "_view_name": "HTMLView",
            "description": "",
            "description_tooltip": null,
            "layout": "IPY_MODEL_4402c69e141547aa84c9cbc327e9a3e7",
            "placeholder": "​",
            "style": "IPY_MODEL_4e1b8f4481db4568a3c4d994e0539d12",
            "value": " 1648877/1648877 [00:00&lt;00:00, 27074426.08it/s]"
          }
        },
        "4a4323020cba4a249d2c49e4740f34f7": {
          "model_module": "@jupyter-widgets/base",
          "model_module_version": "1.2.0",
          "model_name": "LayoutModel",
          "state": {
            "_model_module": "@jupyter-widgets/base",
            "_model_module_version": "1.2.0",
            "_model_name": "LayoutModel",
            "_view_count": null,
            "_view_module": "@jupyter-widgets/base",
            "_view_module_version": "1.2.0",
            "_view_name": "LayoutView",
            "align_content": null,
            "align_items": null,
            "align_self": null,
            "border": null,
            "bottom": null,
            "display": null,
            "flex": null,
            "flex_flow": null,
            "grid_area": null,
            "grid_auto_columns": null,
            "grid_auto_flow": null,
            "grid_auto_rows": null,
            "grid_column": null,
            "grid_gap": null,
            "grid_row": null,
            "grid_template_areas": null,
            "grid_template_columns": null,
            "grid_template_rows": null,
            "height": null,
            "justify_content": null,
            "justify_items": null,
            "left": null,
            "margin": null,
            "max_height": null,
            "max_width": null,
            "min_height": null,
            "min_width": null,
            "object_fit": null,
            "object_position": null,
            "order": null,
            "overflow": null,
            "overflow_x": null,
            "overflow_y": null,
            "padding": null,
            "right": null,
            "top": null,
            "visibility": null,
            "width": null
          }
        },
        "4e1b8f4481db4568a3c4d994e0539d12": {
          "model_module": "@jupyter-widgets/controls",
          "model_module_version": "1.5.0",
          "model_name": "DescriptionStyleModel",
          "state": {
            "_model_module": "@jupyter-widgets/controls",
            "_model_module_version": "1.5.0",
            "_model_name": "DescriptionStyleModel",
            "_view_count": null,
            "_view_module": "@jupyter-widgets/base",
            "_view_module_version": "1.2.0",
            "_view_name": "StyleView",
            "description_width": ""
          }
        },
        "5dc360a707504566b074a11a8c6193b7": {
          "model_module": "@jupyter-widgets/base",
          "model_module_version": "1.2.0",
          "model_name": "LayoutModel",
          "state": {
            "_model_module": "@jupyter-widgets/base",
            "_model_module_version": "1.2.0",
            "_model_name": "LayoutModel",
            "_view_count": null,
            "_view_module": "@jupyter-widgets/base",
            "_view_module_version": "1.2.0",
            "_view_name": "LayoutView",
            "align_content": null,
            "align_items": null,
            "align_self": null,
            "border": null,
            "bottom": null,
            "display": null,
            "flex": null,
            "flex_flow": null,
            "grid_area": null,
            "grid_auto_columns": null,
            "grid_auto_flow": null,
            "grid_auto_rows": null,
            "grid_column": null,
            "grid_gap": null,
            "grid_row": null,
            "grid_template_areas": null,
            "grid_template_columns": null,
            "grid_template_rows": null,
            "height": null,
            "justify_content": null,
            "justify_items": null,
            "left": null,
            "margin": null,
            "max_height": null,
            "max_width": null,
            "min_height": null,
            "min_width": null,
            "object_fit": null,
            "object_position": null,
            "order": null,
            "overflow": null,
            "overflow_x": null,
            "overflow_y": null,
            "padding": null,
            "right": null,
            "top": null,
            "visibility": null,
            "width": null
          }
        },
        "5e832e7bf37f4776b455b318c92f80cb": {
          "model_module": "@jupyter-widgets/controls",
          "model_module_version": "1.5.0",
          "model_name": "HBoxModel",
          "state": {
            "_dom_classes": [],
            "_model_module": "@jupyter-widgets/controls",
            "_model_module_version": "1.5.0",
            "_model_name": "HBoxModel",
            "_view_count": null,
            "_view_module": "@jupyter-widgets/controls",
            "_view_module_version": "1.5.0",
            "_view_name": "HBoxView",
            "box_style": "",
            "children": [
              "IPY_MODEL_41edd95be5374658b326f29e7b0f45b8",
              "IPY_MODEL_b838dc403d5a43629815958ab378dca4",
              "IPY_MODEL_fddc888ef573420697ec7e892fe4e0c3"
            ],
            "layout": "IPY_MODEL_7e6b9f65a7a4436f90671e308263a152"
          }
        },
        "6605289b22b54e06bc11adb7338f565e": {
          "model_module": "@jupyter-widgets/base",
          "model_module_version": "1.2.0",
          "model_name": "LayoutModel",
          "state": {
            "_model_module": "@jupyter-widgets/base",
            "_model_module_version": "1.2.0",
            "_model_name": "LayoutModel",
            "_view_count": null,
            "_view_module": "@jupyter-widgets/base",
            "_view_module_version": "1.2.0",
            "_view_name": "LayoutView",
            "align_content": null,
            "align_items": null,
            "align_self": null,
            "border": null,
            "bottom": null,
            "display": null,
            "flex": null,
            "flex_flow": null,
            "grid_area": null,
            "grid_auto_columns": null,
            "grid_auto_flow": null,
            "grid_auto_rows": null,
            "grid_column": null,
            "grid_gap": null,
            "grid_row": null,
            "grid_template_areas": null,
            "grid_template_columns": null,
            "grid_template_rows": null,
            "height": null,
            "justify_content": null,
            "justify_items": null,
            "left": null,
            "margin": null,
            "max_height": null,
            "max_width": null,
            "min_height": null,
            "min_width": null,
            "object_fit": null,
            "object_position": null,
            "order": null,
            "overflow": null,
            "overflow_x": null,
            "overflow_y": null,
            "padding": null,
            "right": null,
            "top": null,
            "visibility": null,
            "width": null
          }
        },
        "75979d8d68ac4ed683a13f477d30c124": {
          "model_module": "@jupyter-widgets/controls",
          "model_module_version": "1.5.0",
          "model_name": "ProgressStyleModel",
          "state": {
            "_model_module": "@jupyter-widgets/controls",
            "_model_module_version": "1.5.0",
            "_model_name": "ProgressStyleModel",
            "_view_count": null,
            "_view_module": "@jupyter-widgets/base",
            "_view_module_version": "1.2.0",
            "_view_name": "StyleView",
            "bar_color": null,
            "description_width": ""
          }
        },
        "7ae3c9db2ae246fbb5cd3bcb08b164fb": {
          "model_module": "@jupyter-widgets/controls",
          "model_module_version": "1.5.0",
          "model_name": "DescriptionStyleModel",
          "state": {
            "_model_module": "@jupyter-widgets/controls",
            "_model_module_version": "1.5.0",
            "_model_name": "DescriptionStyleModel",
            "_view_count": null,
            "_view_module": "@jupyter-widgets/base",
            "_view_module_version": "1.2.0",
            "_view_name": "StyleView",
            "description_width": ""
          }
        },
        "7bb8e7a6f432498db49f7facba7965da": {
          "model_module": "@jupyter-widgets/base",
          "model_module_version": "1.2.0",
          "model_name": "LayoutModel",
          "state": {
            "_model_module": "@jupyter-widgets/base",
            "_model_module_version": "1.2.0",
            "_model_name": "LayoutModel",
            "_view_count": null,
            "_view_module": "@jupyter-widgets/base",
            "_view_module_version": "1.2.0",
            "_view_name": "LayoutView",
            "align_content": null,
            "align_items": null,
            "align_self": null,
            "border": null,
            "bottom": null,
            "display": null,
            "flex": null,
            "flex_flow": null,
            "grid_area": null,
            "grid_auto_columns": null,
            "grid_auto_flow": null,
            "grid_auto_rows": null,
            "grid_column": null,
            "grid_gap": null,
            "grid_row": null,
            "grid_template_areas": null,
            "grid_template_columns": null,
            "grid_template_rows": null,
            "height": null,
            "justify_content": null,
            "justify_items": null,
            "left": null,
            "margin": null,
            "max_height": null,
            "max_width": null,
            "min_height": null,
            "min_width": null,
            "object_fit": null,
            "object_position": null,
            "order": null,
            "overflow": null,
            "overflow_x": null,
            "overflow_y": null,
            "padding": null,
            "right": null,
            "top": null,
            "visibility": null,
            "width": null
          }
        },
        "7bdd6ea79fe047889a17d41b67f8fed4": {
          "model_module": "@jupyter-widgets/controls",
          "model_module_version": "1.5.0",
          "model_name": "DescriptionStyleModel",
          "state": {
            "_model_module": "@jupyter-widgets/controls",
            "_model_module_version": "1.5.0",
            "_model_name": "DescriptionStyleModel",
            "_view_count": null,
            "_view_module": "@jupyter-widgets/base",
            "_view_module_version": "1.2.0",
            "_view_name": "StyleView",
            "description_width": ""
          }
        },
        "7e6b9f65a7a4436f90671e308263a152": {
          "model_module": "@jupyter-widgets/base",
          "model_module_version": "1.2.0",
          "model_name": "LayoutModel",
          "state": {
            "_model_module": "@jupyter-widgets/base",
            "_model_module_version": "1.2.0",
            "_model_name": "LayoutModel",
            "_view_count": null,
            "_view_module": "@jupyter-widgets/base",
            "_view_module_version": "1.2.0",
            "_view_name": "LayoutView",
            "align_content": null,
            "align_items": null,
            "align_self": null,
            "border": null,
            "bottom": null,
            "display": null,
            "flex": null,
            "flex_flow": null,
            "grid_area": null,
            "grid_auto_columns": null,
            "grid_auto_flow": null,
            "grid_auto_rows": null,
            "grid_column": null,
            "grid_gap": null,
            "grid_row": null,
            "grid_template_areas": null,
            "grid_template_columns": null,
            "grid_template_rows": null,
            "height": null,
            "justify_content": null,
            "justify_items": null,
            "left": null,
            "margin": null,
            "max_height": null,
            "max_width": null,
            "min_height": null,
            "min_width": null,
            "object_fit": null,
            "object_position": null,
            "order": null,
            "overflow": null,
            "overflow_x": null,
            "overflow_y": null,
            "padding": null,
            "right": null,
            "top": null,
            "visibility": null,
            "width": null
          }
        },
        "8ac18f76d2994dfca2d4eff4ada1b6e1": {
          "model_module": "@jupyter-widgets/base",
          "model_module_version": "1.2.0",
          "model_name": "LayoutModel",
          "state": {
            "_model_module": "@jupyter-widgets/base",
            "_model_module_version": "1.2.0",
            "_model_name": "LayoutModel",
            "_view_count": null,
            "_view_module": "@jupyter-widgets/base",
            "_view_module_version": "1.2.0",
            "_view_name": "LayoutView",
            "align_content": null,
            "align_items": null,
            "align_self": null,
            "border": null,
            "bottom": null,
            "display": null,
            "flex": null,
            "flex_flow": null,
            "grid_area": null,
            "grid_auto_columns": null,
            "grid_auto_flow": null,
            "grid_auto_rows": null,
            "grid_column": null,
            "grid_gap": null,
            "grid_row": null,
            "grid_template_areas": null,
            "grid_template_columns": null,
            "grid_template_rows": null,
            "height": null,
            "justify_content": null,
            "justify_items": null,
            "left": null,
            "margin": null,
            "max_height": null,
            "max_width": null,
            "min_height": null,
            "min_width": null,
            "object_fit": null,
            "object_position": null,
            "order": null,
            "overflow": null,
            "overflow_x": null,
            "overflow_y": null,
            "padding": null,
            "right": null,
            "top": null,
            "visibility": null,
            "width": null
          }
        },
        "8b46349372bb4cdb86a777ff3875f375": {
          "model_module": "@jupyter-widgets/controls",
          "model_module_version": "1.5.0",
          "model_name": "FloatProgressModel",
          "state": {
            "_dom_classes": [],
            "_model_module": "@jupyter-widgets/controls",
            "_model_module_version": "1.5.0",
            "_model_name": "FloatProgressModel",
            "_view_count": null,
            "_view_module": "@jupyter-widgets/controls",
            "_view_module_version": "1.5.0",
            "_view_name": "ProgressView",
            "bar_style": "success",
            "description": "",
            "description_tooltip": null,
            "layout": "IPY_MODEL_6605289b22b54e06bc11adb7338f565e",
            "max": 1648877,
            "min": 0,
            "orientation": "horizontal",
            "style": "IPY_MODEL_8c51aacec4d140969af8b2df687a81c0",
            "value": 1648877
          }
        },
        "8c51aacec4d140969af8b2df687a81c0": {
          "model_module": "@jupyter-widgets/controls",
          "model_module_version": "1.5.0",
          "model_name": "ProgressStyleModel",
          "state": {
            "_model_module": "@jupyter-widgets/controls",
            "_model_module_version": "1.5.0",
            "_model_name": "ProgressStyleModel",
            "_view_count": null,
            "_view_module": "@jupyter-widgets/base",
            "_view_module_version": "1.2.0",
            "_view_name": "StyleView",
            "bar_color": null,
            "description_width": ""
          }
        },
        "8eca9ca5cdf1469a9d974ef0eb616350": {
          "model_module": "@jupyter-widgets/base",
          "model_module_version": "1.2.0",
          "model_name": "LayoutModel",
          "state": {
            "_model_module": "@jupyter-widgets/base",
            "_model_module_version": "1.2.0",
            "_model_name": "LayoutModel",
            "_view_count": null,
            "_view_module": "@jupyter-widgets/base",
            "_view_module_version": "1.2.0",
            "_view_name": "LayoutView",
            "align_content": null,
            "align_items": null,
            "align_self": null,
            "border": null,
            "bottom": null,
            "display": null,
            "flex": null,
            "flex_flow": null,
            "grid_area": null,
            "grid_auto_columns": null,
            "grid_auto_flow": null,
            "grid_auto_rows": null,
            "grid_column": null,
            "grid_gap": null,
            "grid_row": null,
            "grid_template_areas": null,
            "grid_template_columns": null,
            "grid_template_rows": null,
            "height": null,
            "justify_content": null,
            "justify_items": null,
            "left": null,
            "margin": null,
            "max_height": null,
            "max_width": null,
            "min_height": null,
            "min_width": null,
            "object_fit": null,
            "object_position": null,
            "order": null,
            "overflow": null,
            "overflow_x": null,
            "overflow_y": null,
            "padding": null,
            "right": null,
            "top": null,
            "visibility": null,
            "width": null
          }
        },
        "9d20fdaaa8ed4586b1b948032890750d": {
          "model_module": "@jupyter-widgets/controls",
          "model_module_version": "1.5.0",
          "model_name": "HTMLModel",
          "state": {
            "_dom_classes": [],
            "_model_module": "@jupyter-widgets/controls",
            "_model_module_version": "1.5.0",
            "_model_name": "HTMLModel",
            "_view_count": null,
            "_view_module": "@jupyter-widgets/controls",
            "_view_module_version": "1.5.0",
            "_view_name": "HTMLView",
            "description": "",
            "description_tooltip": null,
            "layout": "IPY_MODEL_b872869981484968baf122c3b5075441",
            "placeholder": "​",
            "style": "IPY_MODEL_7bdd6ea79fe047889a17d41b67f8fed4",
            "value": " 9912422/9912422 [00:00&lt;00:00, 122949044.65it/s]"
          }
        },
        "a3b9bfc0eec842d694a8be5df3f64245": {
          "model_module": "@jupyter-widgets/base",
          "model_module_version": "1.2.0",
          "model_name": "LayoutModel",
          "state": {
            "_model_module": "@jupyter-widgets/base",
            "_model_module_version": "1.2.0",
            "_model_name": "LayoutModel",
            "_view_count": null,
            "_view_module": "@jupyter-widgets/base",
            "_view_module_version": "1.2.0",
            "_view_name": "LayoutView",
            "align_content": null,
            "align_items": null,
            "align_self": null,
            "border": null,
            "bottom": null,
            "display": null,
            "flex": null,
            "flex_flow": null,
            "grid_area": null,
            "grid_auto_columns": null,
            "grid_auto_flow": null,
            "grid_auto_rows": null,
            "grid_column": null,
            "grid_gap": null,
            "grid_row": null,
            "grid_template_areas": null,
            "grid_template_columns": null,
            "grid_template_rows": null,
            "height": null,
            "justify_content": null,
            "justify_items": null,
            "left": null,
            "margin": null,
            "max_height": null,
            "max_width": null,
            "min_height": null,
            "min_width": null,
            "object_fit": null,
            "object_position": null,
            "order": null,
            "overflow": null,
            "overflow_x": null,
            "overflow_y": null,
            "padding": null,
            "right": null,
            "top": null,
            "visibility": null,
            "width": null
          }
        },
        "a88b902d94104949b2818cb19c8f6682": {
          "model_module": "@jupyter-widgets/controls",
          "model_module_version": "1.5.0",
          "model_name": "HTMLModel",
          "state": {
            "_dom_classes": [],
            "_model_module": "@jupyter-widgets/controls",
            "_model_module_version": "1.5.0",
            "_model_name": "HTMLModel",
            "_view_count": null,
            "_view_module": "@jupyter-widgets/controls",
            "_view_module_version": "1.5.0",
            "_view_name": "HTMLView",
            "description": "",
            "description_tooltip": null,
            "layout": "IPY_MODEL_7bb8e7a6f432498db49f7facba7965da",
            "placeholder": "​",
            "style": "IPY_MODEL_110a8caad06c4e21a149c43bbf3ac36b",
            "value": " 4542/4542 [00:00&lt;00:00, 247573.44it/s]"
          }
        },
        "b3b92972864e43b4a3b9a2369dcbdbfc": {
          "model_module": "@jupyter-widgets/base",
          "model_module_version": "1.2.0",
          "model_name": "LayoutModel",
          "state": {
            "_model_module": "@jupyter-widgets/base",
            "_model_module_version": "1.2.0",
            "_model_name": "LayoutModel",
            "_view_count": null,
            "_view_module": "@jupyter-widgets/base",
            "_view_module_version": "1.2.0",
            "_view_name": "LayoutView",
            "align_content": null,
            "align_items": null,
            "align_self": null,
            "border": null,
            "bottom": null,
            "display": null,
            "flex": null,
            "flex_flow": null,
            "grid_area": null,
            "grid_auto_columns": null,
            "grid_auto_flow": null,
            "grid_auto_rows": null,
            "grid_column": null,
            "grid_gap": null,
            "grid_row": null,
            "grid_template_areas": null,
            "grid_template_columns": null,
            "grid_template_rows": null,
            "height": null,
            "justify_content": null,
            "justify_items": null,
            "left": null,
            "margin": null,
            "max_height": null,
            "max_width": null,
            "min_height": null,
            "min_width": null,
            "object_fit": null,
            "object_position": null,
            "order": null,
            "overflow": null,
            "overflow_x": null,
            "overflow_y": null,
            "padding": null,
            "right": null,
            "top": null,
            "visibility": null,
            "width": null
          }
        },
        "b838dc403d5a43629815958ab378dca4": {
          "model_module": "@jupyter-widgets/controls",
          "model_module_version": "1.5.0",
          "model_name": "FloatProgressModel",
          "state": {
            "_dom_classes": [],
            "_model_module": "@jupyter-widgets/controls",
            "_model_module_version": "1.5.0",
            "_model_name": "FloatProgressModel",
            "_view_count": null,
            "_view_module": "@jupyter-widgets/controls",
            "_view_module_version": "1.5.0",
            "_view_name": "ProgressView",
            "bar_style": "success",
            "description": "",
            "description_tooltip": null,
            "layout": "IPY_MODEL_d7600b0b91c645b9822dda1b01bd9205",
            "max": 28881,
            "min": 0,
            "orientation": "horizontal",
            "style": "IPY_MODEL_75979d8d68ac4ed683a13f477d30c124",
            "value": 28881
          }
        },
        "b872869981484968baf122c3b5075441": {
          "model_module": "@jupyter-widgets/base",
          "model_module_version": "1.2.0",
          "model_name": "LayoutModel",
          "state": {
            "_model_module": "@jupyter-widgets/base",
            "_model_module_version": "1.2.0",
            "_model_name": "LayoutModel",
            "_view_count": null,
            "_view_module": "@jupyter-widgets/base",
            "_view_module_version": "1.2.0",
            "_view_name": "LayoutView",
            "align_content": null,
            "align_items": null,
            "align_self": null,
            "border": null,
            "bottom": null,
            "display": null,
            "flex": null,
            "flex_flow": null,
            "grid_area": null,
            "grid_auto_columns": null,
            "grid_auto_flow": null,
            "grid_auto_rows": null,
            "grid_column": null,
            "grid_gap": null,
            "grid_row": null,
            "grid_template_areas": null,
            "grid_template_columns": null,
            "grid_template_rows": null,
            "height": null,
            "justify_content": null,
            "justify_items": null,
            "left": null,
            "margin": null,
            "max_height": null,
            "max_width": null,
            "min_height": null,
            "min_width": null,
            "object_fit": null,
            "object_position": null,
            "order": null,
            "overflow": null,
            "overflow_x": null,
            "overflow_y": null,
            "padding": null,
            "right": null,
            "top": null,
            "visibility": null,
            "width": null
          }
        },
        "c5ef738caefc4f62b7b7e3e3e38cba95": {
          "model_module": "@jupyter-widgets/base",
          "model_module_version": "1.2.0",
          "model_name": "LayoutModel",
          "state": {
            "_model_module": "@jupyter-widgets/base",
            "_model_module_version": "1.2.0",
            "_model_name": "LayoutModel",
            "_view_count": null,
            "_view_module": "@jupyter-widgets/base",
            "_view_module_version": "1.2.0",
            "_view_name": "LayoutView",
            "align_content": null,
            "align_items": null,
            "align_self": null,
            "border": null,
            "bottom": null,
            "display": null,
            "flex": null,
            "flex_flow": null,
            "grid_area": null,
            "grid_auto_columns": null,
            "grid_auto_flow": null,
            "grid_auto_rows": null,
            "grid_column": null,
            "grid_gap": null,
            "grid_row": null,
            "grid_template_areas": null,
            "grid_template_columns": null,
            "grid_template_rows": null,
            "height": null,
            "justify_content": null,
            "justify_items": null,
            "left": null,
            "margin": null,
            "max_height": null,
            "max_width": null,
            "min_height": null,
            "min_width": null,
            "object_fit": null,
            "object_position": null,
            "order": null,
            "overflow": null,
            "overflow_x": null,
            "overflow_y": null,
            "padding": null,
            "right": null,
            "top": null,
            "visibility": null,
            "width": null
          }
        },
        "cd1707d8be77429f8abf2873d01f7b11": {
          "model_module": "@jupyter-widgets/controls",
          "model_module_version": "1.5.0",
          "model_name": "HBoxModel",
          "state": {
            "_dom_classes": [],
            "_model_module": "@jupyter-widgets/controls",
            "_model_module_version": "1.5.0",
            "_model_name": "HBoxModel",
            "_view_count": null,
            "_view_module": "@jupyter-widgets/controls",
            "_view_module_version": "1.5.0",
            "_view_name": "HBoxView",
            "box_style": "",
            "children": [
              "IPY_MODEL_22ef9d7c66654a2e89ac5c1559010647",
              "IPY_MODEL_ea0d46a9deff494696bce22cdd719d9a",
              "IPY_MODEL_a88b902d94104949b2818cb19c8f6682"
            ],
            "layout": "IPY_MODEL_5dc360a707504566b074a11a8c6193b7"
          }
        },
        "d7600b0b91c645b9822dda1b01bd9205": {
          "model_module": "@jupyter-widgets/base",
          "model_module_version": "1.2.0",
          "model_name": "LayoutModel",
          "state": {
            "_model_module": "@jupyter-widgets/base",
            "_model_module_version": "1.2.0",
            "_model_name": "LayoutModel",
            "_view_count": null,
            "_view_module": "@jupyter-widgets/base",
            "_view_module_version": "1.2.0",
            "_view_name": "LayoutView",
            "align_content": null,
            "align_items": null,
            "align_self": null,
            "border": null,
            "bottom": null,
            "display": null,
            "flex": null,
            "flex_flow": null,
            "grid_area": null,
            "grid_auto_columns": null,
            "grid_auto_flow": null,
            "grid_auto_rows": null,
            "grid_column": null,
            "grid_gap": null,
            "grid_row": null,
            "grid_template_areas": null,
            "grid_template_columns": null,
            "grid_template_rows": null,
            "height": null,
            "justify_content": null,
            "justify_items": null,
            "left": null,
            "margin": null,
            "max_height": null,
            "max_width": null,
            "min_height": null,
            "min_width": null,
            "object_fit": null,
            "object_position": null,
            "order": null,
            "overflow": null,
            "overflow_x": null,
            "overflow_y": null,
            "padding": null,
            "right": null,
            "top": null,
            "visibility": null,
            "width": null
          }
        },
        "e12f22fa2c504b3d879e650fa33ffe3c": {
          "model_module": "@jupyter-widgets/controls",
          "model_module_version": "1.5.0",
          "model_name": "DescriptionStyleModel",
          "state": {
            "_model_module": "@jupyter-widgets/controls",
            "_model_module_version": "1.5.0",
            "_model_name": "DescriptionStyleModel",
            "_view_count": null,
            "_view_module": "@jupyter-widgets/base",
            "_view_module_version": "1.2.0",
            "_view_name": "StyleView",
            "description_width": ""
          }
        },
        "e5584341d42f4a41b42ac07a35cba002": {
          "model_module": "@jupyter-widgets/base",
          "model_module_version": "1.2.0",
          "model_name": "LayoutModel",
          "state": {
            "_model_module": "@jupyter-widgets/base",
            "_model_module_version": "1.2.0",
            "_model_name": "LayoutModel",
            "_view_count": null,
            "_view_module": "@jupyter-widgets/base",
            "_view_module_version": "1.2.0",
            "_view_name": "LayoutView",
            "align_content": null,
            "align_items": null,
            "align_self": null,
            "border": null,
            "bottom": null,
            "display": null,
            "flex": null,
            "flex_flow": null,
            "grid_area": null,
            "grid_auto_columns": null,
            "grid_auto_flow": null,
            "grid_auto_rows": null,
            "grid_column": null,
            "grid_gap": null,
            "grid_row": null,
            "grid_template_areas": null,
            "grid_template_columns": null,
            "grid_template_rows": null,
            "height": null,
            "justify_content": null,
            "justify_items": null,
            "left": null,
            "margin": null,
            "max_height": null,
            "max_width": null,
            "min_height": null,
            "min_width": null,
            "object_fit": null,
            "object_position": null,
            "order": null,
            "overflow": null,
            "overflow_x": null,
            "overflow_y": null,
            "padding": null,
            "right": null,
            "top": null,
            "visibility": null,
            "width": null
          }
        },
        "ea0d46a9deff494696bce22cdd719d9a": {
          "model_module": "@jupyter-widgets/controls",
          "model_module_version": "1.5.0",
          "model_name": "FloatProgressModel",
          "state": {
            "_dom_classes": [],
            "_model_module": "@jupyter-widgets/controls",
            "_model_module_version": "1.5.0",
            "_model_name": "FloatProgressModel",
            "_view_count": null,
            "_view_module": "@jupyter-widgets/controls",
            "_view_module_version": "1.5.0",
            "_view_name": "ProgressView",
            "bar_style": "success",
            "description": "",
            "description_tooltip": null,
            "layout": "IPY_MODEL_fad82b5f451a4f50b92b53033ec664cc",
            "max": 4542,
            "min": 0,
            "orientation": "horizontal",
            "style": "IPY_MODEL_efbafd979e49484bb3c60b7e5f96d049",
            "value": 4542
          }
        },
        "ee6b2347c9af464489201b40125fdeba": {
          "model_module": "@jupyter-widgets/controls",
          "model_module_version": "1.5.0",
          "model_name": "HTMLModel",
          "state": {
            "_dom_classes": [],
            "_model_module": "@jupyter-widgets/controls",
            "_model_module_version": "1.5.0",
            "_model_name": "HTMLModel",
            "_view_count": null,
            "_view_module": "@jupyter-widgets/controls",
            "_view_module_version": "1.5.0",
            "_view_name": "HTMLView",
            "description": "",
            "description_tooltip": null,
            "layout": "IPY_MODEL_e5584341d42f4a41b42ac07a35cba002",
            "placeholder": "​",
            "style": "IPY_MODEL_02ce8fc3614243abbccb5c5aa5af9a5e",
            "value": "100%"
          }
        },
        "efbafd979e49484bb3c60b7e5f96d049": {
          "model_module": "@jupyter-widgets/controls",
          "model_module_version": "1.5.0",
          "model_name": "ProgressStyleModel",
          "state": {
            "_model_module": "@jupyter-widgets/controls",
            "_model_module_version": "1.5.0",
            "_model_name": "ProgressStyleModel",
            "_view_count": null,
            "_view_module": "@jupyter-widgets/base",
            "_view_module_version": "1.2.0",
            "_view_name": "StyleView",
            "bar_color": null,
            "description_width": ""
          }
        },
        "fad82b5f451a4f50b92b53033ec664cc": {
          "model_module": "@jupyter-widgets/base",
          "model_module_version": "1.2.0",
          "model_name": "LayoutModel",
          "state": {
            "_model_module": "@jupyter-widgets/base",
            "_model_module_version": "1.2.0",
            "_model_name": "LayoutModel",
            "_view_count": null,
            "_view_module": "@jupyter-widgets/base",
            "_view_module_version": "1.2.0",
            "_view_name": "LayoutView",
            "align_content": null,
            "align_items": null,
            "align_self": null,
            "border": null,
            "bottom": null,
            "display": null,
            "flex": null,
            "flex_flow": null,
            "grid_area": null,
            "grid_auto_columns": null,
            "grid_auto_flow": null,
            "grid_auto_rows": null,
            "grid_column": null,
            "grid_gap": null,
            "grid_row": null,
            "grid_template_areas": null,
            "grid_template_columns": null,
            "grid_template_rows": null,
            "height": null,
            "justify_content": null,
            "justify_items": null,
            "left": null,
            "margin": null,
            "max_height": null,
            "max_width": null,
            "min_height": null,
            "min_width": null,
            "object_fit": null,
            "object_position": null,
            "order": null,
            "overflow": null,
            "overflow_x": null,
            "overflow_y": null,
            "padding": null,
            "right": null,
            "top": null,
            "visibility": null,
            "width": null
          }
        },
        "fddc888ef573420697ec7e892fe4e0c3": {
          "model_module": "@jupyter-widgets/controls",
          "model_module_version": "1.5.0",
          "model_name": "HTMLModel",
          "state": {
            "_dom_classes": [],
            "_model_module": "@jupyter-widgets/controls",
            "_model_module_version": "1.5.0",
            "_model_name": "HTMLModel",
            "_view_count": null,
            "_view_module": "@jupyter-widgets/controls",
            "_view_module_version": "1.5.0",
            "_view_name": "HTMLView",
            "description": "",
            "description_tooltip": null,
            "layout": "IPY_MODEL_c5ef738caefc4f62b7b7e3e3e38cba95",
            "placeholder": "​",
            "style": "IPY_MODEL_7ae3c9db2ae246fbb5cd3bcb08b164fb",
            "value": " 28881/28881 [00:00&lt;00:00, 1493198.07it/s]"
          }
        }
      }
    }
  },
  "nbformat": 4,
  "nbformat_minor": 0
}
